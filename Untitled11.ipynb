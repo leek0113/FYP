{
 "cells": [
  {
   "cell_type": "code",
   "execution_count": 1,
   "metadata": {},
   "outputs": [
    {
     "name": "stdout",
     "output_type": "stream",
     "text": [
      "      BMI  Hand   Forearm  Cheek  Comfort\n",
      "0   19.29   33.6     33.0   34.1        1\n",
      "1   20.45   33.5     33.6   34.2        1\n",
      "2   19.56   33.1     32.9   33.4        0\n",
      "3   18.75   33.0     32.6   32.9        0\n",
      "4   19.81   33.4     33.2   33.8        1\n",
      "5   25.78   33.4     33.3   34.0        1\n",
      "6   22.48   34.1     32.8   33.9        1\n",
      "7   18.37   32.8     32.7   33.5        0\n",
      "8   19.73   33.6     33.4   34.2        1\n",
      "9   19.29   33.4     33.5   34.1        1\n",
      "10  23.88   34.3     33.8   34.6        0\n",
      "11  19.49   33.4     33.6   34.3        0\n",
      "12  18.65   34.0     32.9   34.4        1\n",
      "13  23.15   34.2     33.6   34.6        0\n",
      "14  21.16   33.8     33.2   34.7        1\n",
      "15  25.59   34.6     34.2   35.4        0\n",
      "16  22.84   33.9     33.7   34.8        0\n",
      "17  24.21   34.6     34.5   34.8        0\n",
      "18  21.71   33.5     33.5   34.2        1\n",
      "19  21.20   34.3     33.3   34.6        1\n",
      "20  23.67   33.7     33.8   35.0        1\n",
      "21  22.23   33.8     33.4   34.5        1\n",
      "22  22.23   33.7     33.0   34.4        1\n",
      "23  23.81   33.8     33.9   35.1        0\n",
      "24  18.41   34.5     33.6   34.7        0\n",
      "25  19.38   33.7     33.2   34.2        0\n",
      "26  23.32   34.5     34.6   33.9        1\n",
      "27  20.90   33.8     33.4   34.2        1\n",
      "28  20.72   34.1     33.7   34.4        1\n",
      "29  20.98   34.4     34.4   35.2        0\n",
      "..    ...    ...      ...    ...      ...\n",
      "40  25.78   33.4     33.3   34.0        1\n",
      "41  22.48   34.1     32.8   33.9        1\n",
      "42  18.37   32.8     32.7   33.5        0\n",
      "43  19.73   33.6     33.4   34.2        1\n",
      "44  19.29   33.4     33.5   34.1        1\n",
      "45  23.88   34.3     33.8   34.6        0\n",
      "46  19.49   33.4     33.6   34.3        0\n",
      "47  18.65   34.0     32.9   34.4        1\n",
      "48  23.15   34.2     33.6   34.6        0\n",
      "49  21.16   33.8     33.2   34.7        1\n",
      "50  25.59   34.6     34.2   35.4        0\n",
      "51  22.84   33.9     33.7   34.8        0\n",
      "52  24.21   34.6     34.5   34.8        0\n",
      "53  21.71   33.5     33.5   34.2        1\n",
      "54  21.20   34.3     33.3   34.6        1\n",
      "55  23.67   33.7     33.8   35.0        1\n",
      "56  22.23   33.8     33.4   34.5        1\n",
      "57  22.23   33.7     33.0   34.4        1\n",
      "58  23.81   33.8     33.9   35.1        0\n",
      "59  18.41   34.5     33.6   34.7        0\n",
      "60  19.38   33.7     33.2   34.2        0\n",
      "61  23.32   34.5     34.6   33.9        1\n",
      "62  20.90   33.8     33.4   34.2        1\n",
      "63  20.72   34.1     33.7   34.4        1\n",
      "64  20.98   34.4     34.4   35.2        0\n",
      "65  21.78   33.3     32.8   34.2        1\n",
      "66  21.80   34.2     33.5   34.6        1\n",
      "67  22.13   34.0     34.0   34.6        1\n",
      "68  22.23   33.0     33.1   33.8        1\n",
      "69  22.22   33.6     33.2   34.3        1\n",
      "\n",
      "[70 rows x 5 columns]\n"
     ]
    }
   ],
   "source": [
    "import pandas as pd\n",
    "df=pd.read_csv(r\"C:\\Users\\bobkw\\Desktop\\FYP_Thermal_Data.csv\")\n",
    "print(df)"
   ]
  },
  {
   "cell_type": "code",
   "execution_count": 2,
   "metadata": {},
   "outputs": [
    {
     "data": {
      "text/html": [
       "<div>\n",
       "<style scoped>\n",
       "    .dataframe tbody tr th:only-of-type {\n",
       "        vertical-align: middle;\n",
       "    }\n",
       "\n",
       "    .dataframe tbody tr th {\n",
       "        vertical-align: top;\n",
       "    }\n",
       "\n",
       "    .dataframe thead th {\n",
       "        text-align: right;\n",
       "    }\n",
       "</style>\n",
       "<table border=\"1\" class=\"dataframe\">\n",
       "  <thead>\n",
       "    <tr style=\"text-align: right;\">\n",
       "      <th></th>\n",
       "      <th>BMI</th>\n",
       "      <th>Hand</th>\n",
       "      <th>Forearm</th>\n",
       "      <th>Cheek</th>\n",
       "      <th>Comfort</th>\n",
       "    </tr>\n",
       "  </thead>\n",
       "  <tbody>\n",
       "    <tr>\n",
       "      <th>0</th>\n",
       "      <td>19.29</td>\n",
       "      <td>33.6</td>\n",
       "      <td>33.0</td>\n",
       "      <td>34.1</td>\n",
       "      <td>1</td>\n",
       "    </tr>\n",
       "    <tr>\n",
       "      <th>1</th>\n",
       "      <td>20.45</td>\n",
       "      <td>33.5</td>\n",
       "      <td>33.6</td>\n",
       "      <td>34.2</td>\n",
       "      <td>1</td>\n",
       "    </tr>\n",
       "    <tr>\n",
       "      <th>2</th>\n",
       "      <td>19.56</td>\n",
       "      <td>33.1</td>\n",
       "      <td>32.9</td>\n",
       "      <td>33.4</td>\n",
       "      <td>0</td>\n",
       "    </tr>\n",
       "    <tr>\n",
       "      <th>3</th>\n",
       "      <td>18.75</td>\n",
       "      <td>33.0</td>\n",
       "      <td>32.6</td>\n",
       "      <td>32.9</td>\n",
       "      <td>0</td>\n",
       "    </tr>\n",
       "    <tr>\n",
       "      <th>4</th>\n",
       "      <td>19.81</td>\n",
       "      <td>33.4</td>\n",
       "      <td>33.2</td>\n",
       "      <td>33.8</td>\n",
       "      <td>1</td>\n",
       "    </tr>\n",
       "  </tbody>\n",
       "</table>\n",
       "</div>"
      ],
      "text/plain": [
       "     BMI  Hand   Forearm  Cheek  Comfort\n",
       "0  19.29   33.6     33.0   34.1        1\n",
       "1  20.45   33.5     33.6   34.2        1\n",
       "2  19.56   33.1     32.9   33.4        0\n",
       "3  18.75   33.0     32.6   32.9        0\n",
       "4  19.81   33.4     33.2   33.8        1"
      ]
     },
     "execution_count": 2,
     "metadata": {},
     "output_type": "execute_result"
    }
   ],
   "source": [
    "import numpy as np\n",
    "import matplotlib.pyplot as plt\n",
    "from sklearn.model_selection import train_test_split\n",
    "from sklearn.svm import SVC\n",
    "y=df.Comfort\n",
    "x=df.drop('Comfort',axis=1)\n",
    "df.head()"
   ]
  },
  {
   "cell_type": "code",
   "execution_count": 3,
   "metadata": {},
   "outputs": [
    {
     "data": {
      "text/html": [
       "<div>\n",
       "<style scoped>\n",
       "    .dataframe tbody tr th:only-of-type {\n",
       "        vertical-align: middle;\n",
       "    }\n",
       "\n",
       "    .dataframe tbody tr th {\n",
       "        vertical-align: top;\n",
       "    }\n",
       "\n",
       "    .dataframe thead th {\n",
       "        text-align: right;\n",
       "    }\n",
       "</style>\n",
       "<table border=\"1\" class=\"dataframe\">\n",
       "  <thead>\n",
       "    <tr style=\"text-align: right;\">\n",
       "      <th></th>\n",
       "      <th>BMI</th>\n",
       "      <th>Hand</th>\n",
       "      <th>Forearm</th>\n",
       "      <th>Cheek</th>\n",
       "    </tr>\n",
       "  </thead>\n",
       "  <tbody>\n",
       "    <tr>\n",
       "      <th>7</th>\n",
       "      <td>18.37</td>\n",
       "      <td>32.8</td>\n",
       "      <td>32.7</td>\n",
       "      <td>33.5</td>\n",
       "    </tr>\n",
       "    <tr>\n",
       "      <th>15</th>\n",
       "      <td>25.59</td>\n",
       "      <td>34.6</td>\n",
       "      <td>34.2</td>\n",
       "      <td>35.4</td>\n",
       "    </tr>\n",
       "    <tr>\n",
       "      <th>27</th>\n",
       "      <td>20.90</td>\n",
       "      <td>33.8</td>\n",
       "      <td>33.4</td>\n",
       "      <td>34.2</td>\n",
       "    </tr>\n",
       "    <tr>\n",
       "      <th>2</th>\n",
       "      <td>19.56</td>\n",
       "      <td>33.1</td>\n",
       "      <td>32.9</td>\n",
       "      <td>33.4</td>\n",
       "    </tr>\n",
       "    <tr>\n",
       "      <th>17</th>\n",
       "      <td>24.21</td>\n",
       "      <td>34.6</td>\n",
       "      <td>34.5</td>\n",
       "      <td>34.8</td>\n",
       "    </tr>\n",
       "  </tbody>\n",
       "</table>\n",
       "</div>"
      ],
      "text/plain": [
       "      BMI  Hand   Forearm  Cheek\n",
       "7   18.37   32.8     32.7   33.5\n",
       "15  25.59   34.6     34.2   35.4\n",
       "27  20.90   33.8     33.4   34.2\n",
       "2   19.56   33.1     32.9   33.4\n",
       "17  24.21   34.6     34.5   34.8"
      ]
     },
     "execution_count": 3,
     "metadata": {},
     "output_type": "execute_result"
    }
   ],
   "source": [
    "x_train,x_test,y_train,y_test=train_test_split(x,y,test_size=0.2)\n",
    "x_train.head()"
   ]
  },
  {
   "cell_type": "code",
   "execution_count": 4,
   "metadata": {},
   "outputs": [
    {
     "data": {
      "text/plain": [
       "SVC(C=1.0, cache_size=200, class_weight=None, coef0=0.0,\n",
       "  decision_function_shape='ovr', degree=3, gamma='auto', kernel='rbf',\n",
       "  max_iter=-1, probability=False, random_state=None, shrinking=True,\n",
       "  tol=0.001, verbose=False)"
      ]
     },
     "execution_count": 4,
     "metadata": {},
     "output_type": "execute_result"
    }
   ],
   "source": [
    "from sklearn.svm import SVC\n",
    "svclassifier = SVC(kernel='rbf')\n",
    "svclassifier.fit(x_train, y_train)"
   ]
  },
  {
   "cell_type": "code",
   "execution_count": 5,
   "metadata": {},
   "outputs": [
    {
     "name": "stdout",
     "output_type": "stream",
     "text": [
      "[[ 3  1]\n",
      " [ 0 10]]\n",
      "             precision    recall  f1-score   support\n",
      "\n",
      "          0       1.00      0.75      0.86         4\n",
      "          1       0.91      1.00      0.95        10\n",
      "\n",
      "avg / total       0.94      0.93      0.93        14\n",
      "\n"
     ]
    }
   ],
   "source": [
    "y_pred = svclassifier.predict(x_test)\n",
    "from sklearn.metrics import classification_report, confusion_matrix\n",
    "print(confusion_matrix(y_test,y_pred))\n",
    "print(classification_report(y_test,y_pred))"
   ]
  },
  {
   "cell_type": "code",
   "execution_count": 6,
   "metadata": {},
   "outputs": [
    {
     "name": "stdout",
     "output_type": "stream",
     "text": [
      "Accuracy: 0.9285714285714286\n"
     ]
    }
   ],
   "source": [
    "from sklearn import metrics\n",
    "print(\"Accuracy:\",metrics.accuracy_score(y_test, y_pred))"
   ]
  },
  {
   "cell_type": "code",
   "execution_count": 7,
   "metadata": {},
   "outputs": [
    {
     "name": "stdout",
     "output_type": "stream",
     "text": [
      "Precision: 0.9090909090909091\n"
     ]
    }
   ],
   "source": [
    "print(\"Precision:\",metrics.precision_score(y_test, y_pred))"
   ]
  },
  {
   "cell_type": "code",
   "execution_count": null,
   "metadata": {},
   "outputs": [],
   "source": []
  }
 ],
 "metadata": {
  "kernelspec": {
   "display_name": "Python 3",
   "language": "python",
   "name": "python3"
  },
  "language_info": {
   "codemirror_mode": {
    "name": "ipython",
    "version": 3
   },
   "file_extension": ".py",
   "mimetype": "text/x-python",
   "name": "python",
   "nbconvert_exporter": "python",
   "pygments_lexer": "ipython3",
   "version": "3.6.5"
  }
 },
 "nbformat": 4,
 "nbformat_minor": 2
}
